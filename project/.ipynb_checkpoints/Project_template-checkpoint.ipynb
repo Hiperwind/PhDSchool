{
 "cells": [
  {
   "cell_type": "markdown",
   "id": "48029ca2",
   "metadata": {},
   "source": [
    "# Hiperwind Summer School 2023 - Project template"
   ]
  },
  {
   "cell_type": "markdown",
   "id": "aff255df",
   "metadata": {},
   "source": [
    "Through this work, you will reinforce your knowledge by applying the concepts explained during the lectures.\n",
    "\n",
    "You are expected to complete the following steps:\n",
    "\n",
    "1. Create a Python environments and screen the datasets\n",
    "2. Fit a distribution based on environmental data\n",
    "3. Train a surrogate model \n",
    "4. Estimate the reliability of a structural component "
   ]
  },
  {
   "cell_type": "markdown",
   "id": "7d91c30a",
   "metadata": {},
   "source": [
    "## 1. Create a Python environment and screen datasets\n",
    "\n",
    "* Make sure you have Python installed on your computer. We recommend you to install Python 10 to avoid any incompatibilities. The instructions are listed in the main [readme](../README.md)\n",
    "\n",
    "* Create and activate the environment\n",
    "\n",
    "* Install the required packages\n",
    "\n",
    "You are now ready to go!"
   ]
  },
  {
   "cell_type": "markdown",
   "id": "da74fbfd",
   "metadata": {},
   "source": [
    "Run the following script to make sure you have installed all required packages:"
   ]
  },
  {
   "cell_type": "code",
   "execution_count": null,
   "id": "e45fa579",
   "metadata": {
    "scrolled": true
   },
   "outputs": [],
   "source": [
    "! python ../test_packages.py"
   ]
  }
 ],
 "metadata": {
  "kernelspec": {
   "display_name": "Python 3 (ipykernel)",
   "language": "python",
   "name": "python3"
  },
  "language_info": {
   "codemirror_mode": {
    "name": "ipython",
    "version": 3
   },
   "file_extension": ".py",
   "mimetype": "text/x-python",
   "name": "python",
   "nbconvert_exporter": "python",
   "pygments_lexer": "ipython3",
   "version": "3.9.13"
  }
 },
 "nbformat": 4,
 "nbformat_minor": 5
}
